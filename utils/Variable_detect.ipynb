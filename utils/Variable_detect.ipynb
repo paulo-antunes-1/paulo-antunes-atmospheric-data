{
  "nbformat": 4,
  "nbformat_minor": 0,
  "metadata": {
    "colab": {
      "provenance": [],
      "authorship_tag": "ABX9TyMAFVYAOIIH6+7nJFLsgtAG",
      "include_colab_link": true
    },
    "kernelspec": {
      "name": "python3",
      "display_name": "Python 3"
    },
    "language_info": {
      "name": "python"
    }
  },
  "cells": [
    {
      "cell_type": "markdown",
      "metadata": {
        "id": "view-in-github",
        "colab_type": "text"
      },
      "source": [
        "<a href=\"https://colab.research.google.com/github/paulo-antunes-1/paulo-antunes-atmospheric-data/blob/main/utils/Variable_detect.ipynb\" target=\"_parent\"><img src=\"https://colab.research.google.com/assets/colab-badge.svg\" alt=\"Open In Colab\"/></a>"
      ]
    },
    {
      "cell_type": "code",
      "source": [
        "from google.colab import drive\n",
        "drive.mount('/content/drive')"
      ],
      "metadata": {
        "colab": {
          "base_uri": "https://localhost:8080/"
        },
        "id": "5JUc4j_9Yzuh",
        "outputId": "8750524e-b37d-4369-c0b7-90cc30f4a087"
      },
      "execution_count": 12,
      "outputs": [
        {
          "output_type": "stream",
          "name": "stdout",
          "text": [
            "Mounted at /content/drive\n"
          ]
        }
      ]
    },
    {
      "cell_type": "code",
      "source": [
        "!pip install xarray"
      ],
      "metadata": {
        "colab": {
          "base_uri": "https://localhost:8080/"
        },
        "id": "SJSZ_BVtUVuy",
        "outputId": "12362dc2-5a4b-45f0-b148-ff70d1337b5d"
      },
      "execution_count": 2,
      "outputs": [
        {
          "output_type": "stream",
          "name": "stdout",
          "text": [
            "Requirement already satisfied: xarray in /usr/local/lib/python3.11/dist-packages (2025.3.1)\n",
            "Requirement already satisfied: numpy>=1.24 in /usr/local/lib/python3.11/dist-packages (from xarray) (2.0.2)\n",
            "Requirement already satisfied: packaging>=23.2 in /usr/local/lib/python3.11/dist-packages (from xarray) (24.2)\n",
            "Requirement already satisfied: pandas>=2.1 in /usr/local/lib/python3.11/dist-packages (from xarray) (2.2.2)\n",
            "Requirement already satisfied: python-dateutil>=2.8.2 in /usr/local/lib/python3.11/dist-packages (from pandas>=2.1->xarray) (2.9.0.post0)\n",
            "Requirement already satisfied: pytz>=2020.1 in /usr/local/lib/python3.11/dist-packages (from pandas>=2.1->xarray) (2025.2)\n",
            "Requirement already satisfied: tzdata>=2022.7 in /usr/local/lib/python3.11/dist-packages (from pandas>=2.1->xarray) (2025.2)\n",
            "Requirement already satisfied: six>=1.5 in /usr/local/lib/python3.11/dist-packages (from python-dateutil>=2.8.2->pandas>=2.1->xarray) (1.17.0)\n"
          ]
        }
      ]
    },
    {
      "cell_type": "code",
      "source": [
        "import os\n",
        "import xarray as xr\n",
        "from collections import defaultdict\n",
        "\n",
        "# Caminho da pasta com os arquivos .nc\n",
        "caminho_pasta = '/content/drive/MyDrive/SAZONAL/OC/OC_mensal'\n",
        "\n",
        "# Lista todos os arquivos .nc na pasta\n",
        "arquivos_nc = [os.path.join(caminho_pasta, f) for f in os.listdir(caminho_pasta) if f.endswith('.nc')]\n",
        "\n",
        "# Dicionário para armazenar as variáveis de cada arquivo\n",
        "variaveis_por_arquivo = {}\n",
        "\n",
        "# Loop para verificar as variáveis presentes em cada arquivo\n",
        "for arquivo in arquivos_nc:\n",
        "    try:\n",
        "        ds = xr.open_dataset(arquivo)\n",
        "        variaveis = list(ds.data_vars.keys())\n",
        "        variaveis_por_arquivo[arquivo] = variaveis\n",
        "        ds.close()\n",
        "    except Exception as e:\n",
        "        print(f'❌ Erro ao abrir {arquivo}: {e}')\n",
        "\n",
        "# Agrupar arquivos por conjunto de variáveis\n",
        "grupos_variaveis = defaultdict(list)\n",
        "for arquivo, variaveis in variaveis_por_arquivo.items():\n",
        "    chave = tuple(sorted(variaveis))  # usa tupla ordenada como chave\n",
        "    grupos_variaveis[chave].append(arquivo)\n",
        "\n",
        "# Mostrar os grupos com suas variáveis e arquivos\n",
        "for i, (variaveis, arquivos) in enumerate(grupos_variaveis.items(), 1):\n",
        "    print(f'\\n🔎 Grupo {i} - Variáveis: {variaveis}')\n",
        "    for arq in arquivos:\n",
        "        print(f'  - {os.path.basename(arq)}')\n"
      ],
      "metadata": {
        "colab": {
          "base_uri": "https://localhost:8080/"
        },
        "id": "nZA4JEPkWDYt",
        "outputId": "8b84b466-a994-4e6f-cd42-c81343590ad4"
      },
      "execution_count": 13,
      "outputs": [
        {
          "output_type": "stream",
          "name": "stdout",
          "text": [
            "\n",
            "🔎 Grupo 1 - Variáveis: ('M2TMNXAER_5_12_4_OCEXTTAU', 'lat_bnds', 'lon_bnds')\n",
            "  - Cópia de 20110601-20110831.180W_90S_180E_90N.nc\n",
            "  - Cópia de 20120601-20120831.180W_90S_180E_90N.nc\n",
            "  - Cópia de 20090601-20090831.180W_90S_180E_90N.nc\n",
            "  - Cópia de 20080601-20080831.180W_90S_180E_90N.nc\n",
            "  - Cópia de 20070601-20070831.180W_90S_180E_90N.nc\n",
            "  - Cópia de 20030601-20030831.180W_90S_180E_90N.nc\n",
            "  - Cópia de 20040601-20040831.180W_90S_180E_90N.nc\n",
            "  - Cópia de 20060601-20060831.180W_90S_180E_90N.nc\n",
            "  - Cópia de 20100601-20100831.180W_90S_180E_90N.nc\n",
            "  - Cópia de 20050601-20050831.180W_90S_180E_90N.nc\n",
            "  - Cópia de 20130601-20130831.180W_90S_180E_90N.nc\n",
            "  - Cópia de 20200601-20200831.180W_90S_180E_90N.nc\n",
            "  - Cópia de 20150601-20150831.180W_90S_180E_90N.nc\n",
            "  - Cópia de 20220601-20220831.180W_90S_180E_90N.nc\n",
            "  - Cópia de 20210601-20210831.180W_90S_180E_90N.nc\n",
            "  - Cópia de 20180601-20180831.180W_90S_180E_90N.nc\n",
            "  - Cópia de 20160601-20160831.180W_90S_180E_90N.nc\n",
            "  - Cópia de 20140601-20140831.180W_90S_180E_90N.nc\n",
            "  - Cópia de 20170601-20170831.180W_90S_180E_90N.nc\n",
            "  - Cópia de 20190601-20190831.180W_90S_180E_90N.nc\n",
            "  - Cópia de 20230601-20230831.180W_90S_180E_90N.nc\n",
            "  - Cópia de 20120301-20120531.180W_90S_180E_90N.nc\n",
            "  - Cópia de 20100301-20100531.180W_90S_180E_90N.nc\n",
            "  - Cópia de 20040301-20040531.180W_90S_180E_90N.nc\n",
            "  - Cópia de 20090301-20090531.180W_90S_180E_90N.nc\n",
            "  - Cópia de 20050301-20050531.180W_90S_180E_90N.nc\n",
            "  - Cópia de 20110301-20110531.180W_90S_180E_90N.nc\n",
            "  - Cópia de 20030301-20030531.180W_90S_180E_90N.nc\n",
            "  - Cópia de 20080301-20080531.180W_90S_180E_90N.nc\n",
            "  - Cópia de 20070301-20070531.180W_90S_180E_90N.nc\n",
            "  - Cópia de 20060301-20060531.180W_90S_180E_90N.nc\n",
            "  - Cópia de 20190301-20190531.180W_90S_180E_90N.nc\n",
            "  - Cópia de 20210301-20210531.180W_90S_180E_90N.nc\n",
            "  - Cópia de 20180301-20180531.180W_90S_180E_90N.nc\n",
            "  - Cópia de 20130301-20130531.180W_90S_180E_90N.nc\n",
            "  - Cópia de 20160301-20160531.180W_90S_180E_90N.nc\n",
            "  - Cópia de 20150301-20150531.180W_90S_180E_90N.nc\n",
            "  - Cópia de 20220301-20220531.180W_90S_180E_90N.nc\n",
            "  - Cópia de 20170301-20170531.180W_90S_180E_90N.nc\n",
            "  - Cópia de 20140301-20140531.180W_90S_180E_90N.nc\n",
            "  - Cópia de 20200301-20200531.180W_90S_180E_90N.nc\n",
            "  - Cópia de 20230301-20230531.180W_90S_180E_90N.nc\n",
            "  - Cópia de 20050901-20051130.180W_90S_180E_90N.nc\n",
            "  - Cópia de 20080901-20081130.180W_90S_180E_90N.nc\n",
            "  - Cópia de 20040901-20041130.180W_90S_180E_90N.nc\n",
            "  - Cópia de 20120901-20121130.180W_90S_180E_90N.nc\n",
            "  - Cópia de 20100901-20101130.180W_90S_180E_90N.nc\n",
            "  - Cópia de 20060901-20061130.180W_90S_180E_90N.nc\n",
            "  - Cópia de 20090901-20091130.180W_90S_180E_90N.nc\n",
            "  - Cópia de 20110901-20111130.180W_90S_180E_90N.nc\n",
            "  - Cópia de 20070901-20071130.180W_90S_180E_90N.nc\n",
            "  - Cópia de 20150901-20151130.180W_90S_180E_90N.nc\n",
            "  - Cópia de 20130901-20131130.180W_90S_180E_90N.nc\n",
            "  - Cópia de 20200901-20201130.180W_90S_180E_90N.nc\n",
            "  - Cópia de 20140901-20141130.180W_90S_180E_90N.nc\n",
            "  - Cópia de 20170901-20171130.180W_90S_180E_90N.nc\n",
            "  - Cópia de 20190901-20191130.180W_90S_180E_90N.nc\n",
            "  - Cópia de 20160901-20161130.180W_90S_180E_90N.nc\n",
            "  - Cópia de 20210901-20211130.180W_90S_180E_90N.nc\n",
            "  - Cópia de 20180901-20181130.180W_90S_180E_90N.nc\n",
            "  - Cópia de 20220901-20221130.180W_90S_180E_90N.nc\n",
            "  - Cópia de 20230901-20231130.180W_90S_180E_90N.nc\n",
            "  - Cópia de 20041201-20050228.180W_90S_180E_90N.nc\n",
            "  - Cópia de 20121201-20130228.180W_90S_180E_90N.nc\n",
            "  - Cópia de 20111201-20120229.180W_90S_180E_90N.nc\n",
            "  - Cópia de 20081201-20090228.180W_90S_180E_90N.nc\n",
            "  - Cópia de 20101201-20110228.180W_90S_180E_90N.nc\n",
            "  - Cópia de 20091201-20100228.180W_90S_180E_90N.nc\n",
            "  - Cópia de 20061201-20070228.180W_90S_180E_90N.nc\n",
            "  - Cópia de 20051201-20060228.180W_90S_180E_90N.nc\n",
            "  - Cópia de 20031201-20040229.180W_90S_180E_90N.nc\n",
            "  - Cópia de 20191201-20200229.180W_90S_180E_90N.nc\n",
            "  - Cópia de 20141201-20150228.180W_90S_180E_90N.nc\n",
            "  - Cópia de 20151201-20160229.180W_90S_180E_90N.nc\n",
            "  - Cópia de 20211201-20220228.180W_90S_180E_90N.nc\n",
            "  - Cópia de 20171201-20180228.180W_90S_180E_90N.nc\n",
            "  - Cópia de 20181201-20190228.180W_90S_180E_90N.nc\n",
            "  - Cópia de 20161201-20170228.180W_90S_180E_90N.nc\n",
            "  - Cópia de 20221201-20230228.180W_90S_180E_90N.nc\n",
            "  - Cópia de 20201201-20210228.180W_90S_180E_90N.nc\n",
            "  - Cópia de 20231201-20240229.180W_90S_180E_90N.nc\n",
            "  - Cópia de 20030901-20031130.180W_90S_180E_90N.nc\n",
            "\n",
            "🔎 Grupo 2 - Variáveis: ('M2TMNXAER_5_12_4_SSEXTTAU', 'lat_bnds', 'lon_bnds')\n",
            "  - Cópia de 20071201-20080229.180W_90S_180E_90N.nc\n",
            "  - Cópia de 20131201-20140228.180W_90S_180E_90N.nc\n"
          ]
        }
      ]
    }
  ]
}